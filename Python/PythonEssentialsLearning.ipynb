{
  "cells": [
    {
      "cell_type": "markdown",
      "metadata": {
        "id": "NXrDkap3tkuz"
      },
      "source": [
        "# ***Python Notes:***"
      ]
    },
    {
      "cell_type": "code",
      "execution_count": 1,
      "metadata": {},
      "outputs": [],
      "source": [
        "#Imported Class \"Decimal\" and \"getcontext\" function from \"decimal\" module\n",
        "from decimal import Decimal, getcontext\n",
        "#import math\n",
        "import math"
      ]
    },
    {
      "cell_type": "code",
      "execution_count": 2,
      "metadata": {
        "colab": {
          "base_uri": "https://localhost:8080/"
        },
        "id": "7ryI-6Okrly6",
        "outputId": "b3a1013e-66c8-46c6-e3f5-eda1ceb9c659"
      },
      "outputs": [
        {
          "name": "stdout",
          "output_type": "stream",
          "text": [
            "Bapu Ni Mauj\n"
          ]
        }
      ],
      "source": [
        "# # Print Jay Kailashgiri Bapu\n",
        "print('Bapu Ni Mauj')"
      ]
    },
    {
      "cell_type": "code",
      "execution_count": 3,
      "metadata": {
        "colab": {
          "base_uri": "https://localhost:8080/"
        },
        "id": "Hbli8p-otvPL",
        "outputId": "64141a6b-23b6-4318-a6b0-96dc9de9b834"
      },
      "outputs": [
        {
          "name": "stdout",
          "output_type": "stream",
          "text": [
            "The Zen of Python, by Tim Peters\n",
            "\n",
            "Beautiful is better than ugly.\n",
            "Explicit is better than implicit.\n",
            "Simple is better than complex.\n",
            "Complex is better than complicated.\n",
            "Flat is better than nested.\n",
            "Sparse is better than dense.\n",
            "Readability counts.\n",
            "Special cases aren't special enough to break the rules.\n",
            "Although practicality beats purity.\n",
            "Errors should never pass silently.\n",
            "Unless explicitly silenced.\n",
            "In the face of ambiguity, refuse the temptation to guess.\n",
            "There should be one-- and preferably only one --obvious way to do it.\n",
            "Although that way may not be obvious at first unless you're Dutch.\n",
            "Now is better than never.\n",
            "Although never is often better than *right* now.\n",
            "If the implementation is hard to explain, it's a bad idea.\n",
            "If the implementation is easy to explain, it may be a good idea.\n",
            "Namespaces are one honking great idea -- let's do more of those!\n"
          ]
        }
      ],
      "source": [
        "import this"
      ]
    },
    {
      "cell_type": "code",
      "execution_count": 4,
      "metadata": {
        "colab": {
          "base_uri": "https://localhost:8080/"
        },
        "id": "2j8fZCRhtxh4",
        "outputId": "c827ae7e-cec6-48ad-e5c4-1557d63ecab8"
      },
      "outputs": [
        {
          "name": "stdout",
          "output_type": "stream",
          "text": [
            "5\n"
          ]
        }
      ],
      "source": [
        "# '='  is an assignment operator\n",
        "x=5\n",
        "print(x)"
      ]
    },
    {
      "cell_type": "code",
      "execution_count": 5,
      "metadata": {
        "colab": {
          "base_uri": "https://localhost:8080/"
        },
        "id": "cmLdQ0EBz9gi",
        "outputId": "ac36a09f-7492-4d30-a5f2-9e9e2d696912"
      },
      "outputs": [
        {
          "data": {
            "text/plain": [
              "5"
            ]
          },
          "execution_count": 5,
          "metadata": {},
          "output_type": "execute_result"
        }
      ],
      "source": [
        "x"
      ]
    },
    {
      "cell_type": "code",
      "execution_count": 6,
      "metadata": {
        "id": "zCUELoqz0Izl"
      },
      "outputs": [],
      "source": [
        "# Variable can't start with numbers\n",
        "# No special chars except '_'\n",
        "# They start with lower case numbers only (Upper class for class)"
      ]
    },
    {
      "cell_type": "code",
      "execution_count": 7,
      "metadata": {
        "colab": {
          "base_uri": "https://localhost:8080/"
        },
        "id": "bmVjquTb0lo9",
        "outputId": "6ae59f0b-8643-4729-ac47-5f43482e7e72"
      },
      "outputs": [
        {
          "data": {
            "text/plain": [
              "int"
            ]
          },
          "execution_count": 7,
          "metadata": {},
          "output_type": "execute_result"
        }
      ],
      "source": [
        "type(x)"
      ]
    },
    {
      "cell_type": "code",
      "execution_count": 8,
      "metadata": {
        "colab": {
          "base_uri": "https://localhost:8080/"
        },
        "id": "f5G8p2tj0nZx",
        "outputId": "29006b60-cb4d-45de-9de9-0fceb292a36f"
      },
      "outputs": [
        {
          "data": {
            "text/plain": [
              "float"
            ]
          },
          "execution_count": 8,
          "metadata": {},
          "output_type": "execute_result"
        }
      ],
      "source": [
        "type(x/2)"
      ]
    },
    {
      "cell_type": "code",
      "execution_count": 9,
      "metadata": {
        "colab": {
          "base_uri": "https://localhost:8080/"
        },
        "id": "KI6rRoot0tCt",
        "outputId": "5980ab61-21e0-4611-ea4c-e14b2f4bb602"
      },
      "outputs": [
        {
          "data": {
            "text/plain": [
              "complex"
            ]
          },
          "execution_count": 9,
          "metadata": {},
          "output_type": "execute_result"
        }
      ],
      "source": [
        "type(2j)"
      ]
    },
    {
      "cell_type": "code",
      "execution_count": 10,
      "metadata": {
        "colab": {
          "base_uri": "https://localhost:8080/"
        },
        "id": "aYusadXl1Lfd",
        "outputId": "553bca63-d755-4ac3-da24-6b3787196612"
      },
      "outputs": [
        {
          "data": {
            "text/plain": [
              "(-4+0j)"
            ]
          },
          "execution_count": 10,
          "metadata": {},
          "output_type": "execute_result"
        }
      ],
      "source": [
        "2j*2j"
      ]
    },
    {
      "cell_type": "code",
      "execution_count": 11,
      "metadata": {
        "colab": {
          "base_uri": "https://localhost:8080/",
          "height": 35
        },
        "id": "Y_hvGa1M4iBJ",
        "outputId": "40b1050c-a3e1-4b57-c2e8-c84bb7e19950"
      },
      "outputs": [
        {
          "data": {
            "text/plain": [
              "'12'"
            ]
          },
          "execution_count": 11,
          "metadata": {},
          "output_type": "execute_result"
        }
      ],
      "source": [
        "\"1\"+'2'"
      ]
    },
    {
      "cell_type": "code",
      "execution_count": 12,
      "metadata": {
        "id": "r-sf-ASi1G3O"
      },
      "outputs": [],
      "source": [
        "# '==' is a statement"
      ]
    },
    {
      "cell_type": "code",
      "execution_count": 13,
      "metadata": {
        "colab": {
          "base_uri": "https://localhost:8080/"
        },
        "id": "_D1rX9Lc5905",
        "outputId": "b0c91f13-a31d-4010-ca6c-1ca8f03c851c"
      },
      "outputs": [
        {
          "name": "stdout",
          "output_type": "stream",
          "text": [
            "['Chandradeep', [1, 2, 3, 4], 'Apple', 'Banana', 'Apple']\n",
            "{'Banana', 'Chandradeep', 'Apple'}\n"
          ]
        }
      ],
      "source": [
        "#list\n",
        "my_list = ['Chandradeep',[1,2,3,4],'Apple','Banana','Apple']\n",
        "my_set = {'Chandradeep','Apple','Banana','Apple'}\n",
        "print(my_list)\n",
        "print(my_set)"
      ]
    },
    {
      "cell_type": "code",
      "execution_count": 14,
      "metadata": {
        "colab": {
          "base_uri": "https://localhost:8080/"
        },
        "id": "hKr9RpN1cCxF",
        "outputId": "36fb70e4-d22a-42ed-d143-dd7fa98a293e"
      },
      "outputs": [
        {
          "data": {
            "text/plain": [
              "False"
            ]
          },
          "execution_count": 14,
          "metadata": {},
          "output_type": "execute_result"
        }
      ],
      "source": [
        "[1,2] == [2,1]"
      ]
    },
    {
      "cell_type": "code",
      "execution_count": 15,
      "metadata": {
        "colab": {
          "base_uri": "https://localhost:8080/"
        },
        "id": "EohNBmiYcJbA",
        "outputId": "6afcf271-dd17-4db7-871e-b8d99cabe429"
      },
      "outputs": [
        {
          "data": {
            "text/plain": [
              "True"
            ]
          },
          "execution_count": 15,
          "metadata": {},
          "output_type": "execute_result"
        }
      ],
      "source": [
        "{1,2} == {2,1}"
      ]
    },
    {
      "cell_type": "code",
      "execution_count": 16,
      "metadata": {
        "id": "APST_2Vi_pRi"
      },
      "outputs": [],
      "source": [
        "# list can have repeats\n",
        "# set can have repeats, but only uniques will be considered\n",
        "# set cannot have list\n",
        "# list can have list\n",
        "# order of elements does matter in lists, but not in case of sets\n",
        "# tuples () are similar to list, but just that once declated the values of tuples cannot be modified - Tuples are memory efficient. So can be used for fixed length variables like x,y co-ordinates.\n",
        "# Order also matters for tuples"
      ]
    },
    {
      "cell_type": "code",
      "execution_count": 17,
      "metadata": {
        "colab": {
          "base_uri": "https://localhost:8080/"
        },
        "id": "ieEHp_6X_7MZ",
        "outputId": "86d8f087-04ea-45e2-ecaa-7c4c96e32d1c"
      },
      "outputs": [
        {
          "name": "stdout",
          "output_type": "stream",
          "text": [
            "<class 'dict'>\n"
          ]
        }
      ],
      "source": [
        "# Dictionaries have unique Keys\n",
        "my_dictionary  = {\n",
        "    'Name': 'JKB',\n",
        "    'Amount': 500\n",
        "}\n",
        "print(type(my_dictionary))"
      ]
    },
    {
      "cell_type": "code",
      "execution_count": 18,
      "metadata": {
        "colab": {
          "base_uri": "https://localhost:8080/"
        },
        "id": "M90Vuq1kEGi3",
        "outputId": "34ad310f-3aa9-402e-9f6c-9737a1913c6e"
      },
      "outputs": [
        {
          "name": "stdout",
          "output_type": "stream",
          "text": [
            "JKB\n"
          ]
        }
      ],
      "source": [
        "print(my_dictionary['Name'])"
      ]
    },
    {
      "cell_type": "code",
      "execution_count": 19,
      "metadata": {
        "colab": {
          "base_uri": "https://localhost:8080/"
        },
        "id": "zUlfchjrFfVY",
        "outputId": "7ed9ab71-fa50-4d57-d5fa-6ddb52d35392"
      },
      "outputs": [
        {
          "name": "stdout",
          "output_type": "stream",
          "text": [
            "2\n"
          ]
        }
      ],
      "source": [
        "print(len(my_dictionary))"
      ]
    },
    {
      "cell_type": "code",
      "execution_count": 20,
      "metadata": {
        "colab": {
          "base_uri": "https://localhost:8080/"
        },
        "id": "VJjuGEiuFm9s",
        "outputId": "ef265ec3-5502-4102-aa93-7bd10295b33f"
      },
      "outputs": [
        {
          "data": {
            "text/plain": [
              "25"
            ]
          },
          "execution_count": 20,
          "metadata": {},
          "output_type": "execute_result"
        }
      ],
      "source": [
        "#square is **\n",
        "5**2"
      ]
    },
    {
      "cell_type": "code",
      "execution_count": 21,
      "metadata": {
        "colab": {
          "base_uri": "https://localhost:8080/"
        },
        "id": "xm1jH5e8Goe6",
        "outputId": "1c75b64e-6cc0-4754-b2ec-620f842a18cb"
      },
      "outputs": [
        {
          "name": "stdout",
          "output_type": "stream",
          "text": [
            "2.0\n"
          ]
        },
        {
          "data": {
            "text/plain": [
              "float"
            ]
          },
          "execution_count": 21,
          "metadata": {},
          "output_type": "execute_result"
        }
      ],
      "source": [
        "#division always returns a float value\n",
        "a = 2/1\n",
        "print (a)\n",
        "type (a)"
      ]
    },
    {
      "cell_type": "code",
      "execution_count": 22,
      "metadata": {
        "colab": {
          "base_uri": "https://localhost:8080/"
        },
        "id": "sj8U4kvXPzyt",
        "outputId": "e57fae76-7821-49ba-f284-5ecd0d57ea80"
      },
      "outputs": [
        {
          "data": {
            "text/plain": [
              "2"
            ]
          },
          "execution_count": 22,
          "metadata": {},
          "output_type": "execute_result"
        }
      ],
      "source": [
        "# Modulus gives remainder\n",
        "20 % 6"
      ]
    },
    {
      "cell_type": "code",
      "execution_count": 23,
      "metadata": {
        "colab": {
          "base_uri": "https://localhost:8080/",
          "height": 35
        },
        "id": "WqbckYLaQBi1",
        "outputId": "72e8d424-2b6b-4215-c539-c2cdf9b27155"
      },
      "outputs": [
        {
          "data": {
            "text/plain": [
              "' Chandradeep  Chandradeep  Chandradeep  Chandradeep '"
            ]
          },
          "execution_count": 23,
          "metadata": {},
          "output_type": "execute_result"
        }
      ],
      "source": [
        "# String multiplication is possible\n",
        "\" Chandradeep \"*4"
      ]
    },
    {
      "cell_type": "code",
      "execution_count": 24,
      "metadata": {
        "id": "RpOqcOPhTb3u"
      },
      "outputs": [],
      "source": [
        "# Comparison Operators ( == > <)\n",
        "# Logical Operators (and, or, not)\n",
        "# Membership Operators (in not in)"
      ]
    },
    {
      "cell_type": "code",
      "execution_count": 25,
      "metadata": {
        "colab": {
          "base_uri": "https://localhost:8080/"
        },
        "id": "TcykDl6MPYaC",
        "outputId": "4727cd30-c7ee-4973-dcc8-1a86ee4c10ef"
      },
      "outputs": [
        {
          "data": {
            "text/plain": [
              "True"
            ]
          },
          "execution_count": 25,
          "metadata": {},
          "output_type": "execute_result"
        }
      ],
      "source": [
        "True != False"
      ]
    },
    {
      "cell_type": "code",
      "execution_count": 26,
      "metadata": {
        "colab": {
          "base_uri": "https://localhost:8080/"
        },
        "id": "uBw9iPCAp0AW",
        "outputId": "c78ce108-03fc-427e-ea61-ad484fa447b7"
      },
      "outputs": [
        {
          "name": "stdout",
          "output_type": "stream",
          "text": [
            "Om Nammah Shivay\n",
            "Ram Ram\n"
          ]
        }
      ],
      "source": [
        "# True can't be true and False can't be false\n",
        "# Indentation matters\n",
        "a = False\n",
        "if a:\n",
        "  print(\"Sitaram\")\n",
        "else:\n",
        "  print('Om Nammah Shivay')\n",
        "print('Ram Ram')"
      ]
    },
    {
      "cell_type": "code",
      "execution_count": 27,
      "metadata": {},
      "outputs": [
        {
          "name": "stdout",
          "output_type": "stream",
          "text": [
            "\n",
            "None\n"
          ]
        }
      ],
      "source": [
        "#print function returns None. None is a python keyword.\n",
        "print(print())"
      ]
    },
    {
      "cell_type": "code",
      "execution_count": 28,
      "metadata": {
        "colab": {
          "base_uri": "https://localhost:8080/"
        },
        "id": "VbYfxG3rHz-a",
        "outputId": "c6abd705-df70-4268-e662-f70a38c1f569"
      },
      "outputs": [
        {
          "data": {
            "text/plain": [
              "9"
            ]
          },
          "execution_count": 28,
          "metadata": {},
          "output_type": "execute_result"
        }
      ],
      "source": [
        "# int does not have len() function\n",
        "def countlength(msisdn):\n",
        "    return len(msisdn)\n",
        "\n",
        "countlength('123456789')"
      ]
    },
    {
      "cell_type": "code",
      "execution_count": 29,
      "metadata": {
        "id": "ea4Snne11PKo"
      },
      "outputs": [],
      "source": [
        "class Dog:\n",
        "  def __init__(self,name):\n",
        "    self.name = name\n",
        "    self.legs = 4\n",
        "\n",
        "  def speak(self):\n",
        "    print(\"Bark!\")"
      ]
    },
    {
      "cell_type": "code",
      "execution_count": 30,
      "metadata": {
        "colab": {
          "base_uri": "https://localhost:8080/",
          "height": 35
        },
        "id": "2MToKKLB6OuT",
        "outputId": "4fe40b8b-3a04-4ad1-884b-fa9097fb3a94"
      },
      "outputs": [
        {
          "data": {
            "text/plain": [
              "'Tuffy'"
            ]
          },
          "execution_count": 30,
          "metadata": {},
          "output_type": "execute_result"
        }
      ],
      "source": [
        "first_dog = Dog(\"Tuffy\")\n",
        "second_dog = Dog(\"Tommy\")\n",
        "first_dog.name"
      ]
    },
    {
      "cell_type": "code",
      "execution_count": 31,
      "metadata": {
        "colab": {
          "base_uri": "https://localhost:8080/",
          "height": 35
        },
        "id": "d-DoaeK_6u7m",
        "outputId": "8a924d8b-3b00-4224-b09c-38c1b177385f"
      },
      "outputs": [
        {
          "data": {
            "text/plain": [
              "'Tommy'"
            ]
          },
          "execution_count": 31,
          "metadata": {},
          "output_type": "execute_result"
        }
      ],
      "source": [
        "second_dog.name"
      ]
    },
    {
      "cell_type": "code",
      "execution_count": 32,
      "metadata": {
        "colab": {
          "base_uri": "https://localhost:8080/"
        },
        "id": "gUTqqqqF6wx4",
        "outputId": "14faab8c-446e-4f9a-a09f-7ca13833c2b0"
      },
      "outputs": [
        {
          "data": {
            "text/plain": [
              "4"
            ]
          },
          "execution_count": 32,
          "metadata": {},
          "output_type": "execute_result"
        }
      ],
      "source": [
        "first_dog.legs"
      ]
    },
    {
      "cell_type": "code",
      "execution_count": 33,
      "metadata": {
        "colab": {
          "base_uri": "https://localhost:8080/"
        },
        "id": "t08o9WF061Bv",
        "outputId": "9b3c5736-8c41-4c20-c1fb-9c5b18ecb25c"
      },
      "outputs": [
        {
          "data": {
            "text/plain": [
              "str"
            ]
          },
          "execution_count": 33,
          "metadata": {},
          "output_type": "execute_result"
        }
      ],
      "source": [
        "type('apple')"
      ]
    },
    {
      "cell_type": "code",
      "execution_count": 34,
      "metadata": {
        "id": "moqeIjKpBdjp"
      },
      "outputs": [],
      "source": [
        "# str, float, int, bool, list are all classes"
      ]
    },
    {
      "cell_type": "code",
      "execution_count": 35,
      "metadata": {
        "colab": {
          "base_uri": "https://localhost:8080/"
        },
        "id": "_WkZ4RcYB0oK",
        "outputId": "2b5bc792-6ef2-4653-e09f-4d5a1d314a10"
      },
      "outputs": [
        {
          "data": {
            "text/plain": [
              "0.099"
            ]
          },
          "execution_count": 35,
          "metadata": {},
          "output_type": "execute_result"
        }
      ],
      "source": [
        "#Wierd rounding errors in python\n",
        "round(1.2-1.101,3)"
      ]
    },
    {
      "cell_type": "code",
      "execution_count": 36,
      "metadata": {
        "colab": {
          "base_uri": "https://localhost:8080/"
        },
        "id": "KH7mzErECahC",
        "outputId": "ed031ffd-278e-4c71-ace9-c961bb0895b0"
      },
      "outputs": [
        {
          "data": {
            "text/plain": [
              "100"
            ]
          },
          "execution_count": 36,
          "metadata": {},
          "output_type": "execute_result"
        }
      ],
      "source": [
        "int('100')"
      ]
    },
    {
      "cell_type": "code",
      "execution_count": 37,
      "metadata": {
        "colab": {
          "base_uri": "https://localhost:8080/"
        },
        "id": "M2Z-KSYCCw4n",
        "outputId": "fb07b641-9623-46d6-e7d9-fe6b6fe49cf2"
      },
      "outputs": [
        {
          "data": {
            "text/plain": [
              "8"
            ]
          },
          "execution_count": 37,
          "metadata": {},
          "output_type": "execute_result"
        }
      ],
      "source": [
        "# base 1000 of base 10, so what of 2? 10*10*10 = 1000, so 2*2*2 = 8\n",
        "int('1000',2)"
      ]
    },
    {
      "cell_type": "code",
      "execution_count": 38,
      "metadata": {},
      "outputs": [],
      "source": [
        "def factorial(num):\n",
        "    if type(num) != int:\n",
        "        return None\n",
        "    if num < 0:\n",
        "        return None\n",
        "    if num == 0:\n",
        "        return 1\n",
        "    return num * factorial(num-1)"
      ]
    },
    {
      "cell_type": "code",
      "execution_count": 39,
      "metadata": {},
      "outputs": [
        {
          "data": {
            "text/plain": [
              "3628800"
            ]
          },
          "execution_count": 39,
          "metadata": {},
          "output_type": "execute_result"
        }
      ],
      "source": [
        "factorial(10)"
      ]
    },
    {
      "cell_type": "code",
      "execution_count": 40,
      "metadata": {},
      "outputs": [],
      "source": [
        "#Solution 2\n",
        "def factorial2(number):\n",
        "    if number < 0:\n",
        "        return None\n",
        "    if type(number) != int:\n",
        "        return None\n",
        "    counter = 1\n",
        "    fact = 1\n",
        "    while counter <= number:\n",
        "        fact = fact * counter\n",
        "        counter = counter + 1\n",
        "    return fact"
      ]
    },
    {
      "cell_type": "code",
      "execution_count": 41,
      "metadata": {},
      "outputs": [
        {
          "data": {
            "text/plain": [
              "3628800"
            ]
          },
          "execution_count": 41,
          "metadata": {},
          "output_type": "execute_result"
        }
      ],
      "source": [
        "factorial2(10)"
      ]
    },
    {
      "cell_type": "code",
      "execution_count": 42,
      "metadata": {},
      "outputs": [
        {
          "data": {
            "text/plain": [
              "Context(prec=28, rounding=ROUND_HALF_EVEN, Emin=-999999, Emax=999999, capitals=1, clamp=0, flags=[], traps=[InvalidOperation, DivisionByZero, Overflow])"
            ]
          },
          "execution_count": 42,
          "metadata": {},
          "output_type": "execute_result"
        }
      ],
      "source": [
        "getcontext()"
      ]
    },
    {
      "cell_type": "code",
      "execution_count": 43,
      "metadata": {},
      "outputs": [
        {
          "data": {
            "text/plain": [
              "Decimal('0.3333333333333333333333333333')"
            ]
          },
          "execution_count": 43,
          "metadata": {},
          "output_type": "execute_result"
        }
      ],
      "source": [
        "Decimal(1)/Decimal(3)"
      ]
    },
    {
      "cell_type": "code",
      "execution_count": 44,
      "metadata": {},
      "outputs": [],
      "source": [
        "getcontext().prec = 4"
      ]
    },
    {
      "cell_type": "code",
      "execution_count": 45,
      "metadata": {},
      "outputs": [
        {
          "data": {
            "text/plain": [
              "Decimal('0.3333')"
            ]
          },
          "execution_count": 45,
          "metadata": {},
          "output_type": "execute_result"
        }
      ],
      "source": [
        "Decimal(1)/Decimal(3)"
      ]
    },
    {
      "cell_type": "code",
      "execution_count": 46,
      "metadata": {},
      "outputs": [],
      "source": [
        "#Round the floats appropriately"
      ]
    },
    {
      "cell_type": "code",
      "execution_count": 47,
      "metadata": {},
      "outputs": [
        {
          "data": {
            "text/plain": [
              "True"
            ]
          },
          "execution_count": 47,
          "metadata": {},
          "output_type": "execute_result"
        }
      ],
      "source": [
        "bool(1)"
      ]
    },
    {
      "cell_type": "code",
      "execution_count": 48,
      "metadata": {},
      "outputs": [
        {
          "data": {
            "text/plain": [
              "True"
            ]
          },
          "execution_count": 48,
          "metadata": {},
          "output_type": "execute_result"
        }
      ],
      "source": [
        "bool(2)"
      ]
    },
    {
      "cell_type": "code",
      "execution_count": 49,
      "metadata": {},
      "outputs": [
        {
          "data": {
            "text/plain": [
              "True"
            ]
          },
          "execution_count": 49,
          "metadata": {},
          "output_type": "execute_result"
        }
      ],
      "source": [
        "bool('True')"
      ]
    },
    {
      "cell_type": "code",
      "execution_count": 50,
      "metadata": {},
      "outputs": [
        {
          "data": {
            "text/plain": [
              "True"
            ]
          },
          "execution_count": 50,
          "metadata": {},
          "output_type": "execute_result"
        }
      ],
      "source": [
        "bool('True')"
      ]
    },
    {
      "cell_type": "code",
      "execution_count": 51,
      "metadata": {},
      "outputs": [
        {
          "data": {
            "text/plain": [
              "True"
            ]
          },
          "execution_count": 51,
          "metadata": {},
          "output_type": "execute_result"
        }
      ],
      "source": [
        "bool('False')"
      ]
    },
    {
      "cell_type": "code",
      "execution_count": 52,
      "metadata": {},
      "outputs": [
        {
          "data": {
            "text/plain": [
              "True"
            ]
          },
          "execution_count": 52,
          "metadata": {},
          "output_type": "execute_result"
        }
      ],
      "source": [
        "bool(-1)"
      ]
    },
    {
      "cell_type": "code",
      "execution_count": 53,
      "metadata": {},
      "outputs": [
        {
          "data": {
            "text/plain": [
              "False"
            ]
          },
          "execution_count": 53,
          "metadata": {},
          "output_type": "execute_result"
        }
      ],
      "source": [
        "bool(0.0)"
      ]
    },
    {
      "cell_type": "code",
      "execution_count": 54,
      "metadata": {},
      "outputs": [
        {
          "data": {
            "text/plain": [
              "False"
            ]
          },
          "execution_count": 54,
          "metadata": {},
          "output_type": "execute_result"
        }
      ],
      "source": [
        "bool(0)"
      ]
    },
    {
      "cell_type": "code",
      "execution_count": 55,
      "metadata": {},
      "outputs": [
        {
          "data": {
            "text/plain": [
              "False"
            ]
          },
          "execution_count": 55,
          "metadata": {},
          "output_type": "execute_result"
        }
      ],
      "source": [
        "bool({})"
      ]
    },
    {
      "cell_type": "code",
      "execution_count": 56,
      "metadata": {},
      "outputs": [
        {
          "data": {
            "text/plain": [
              "False"
            ]
          },
          "execution_count": 56,
          "metadata": {},
          "output_type": "execute_result"
        }
      ],
      "source": [
        "bool([])"
      ]
    },
    {
      "cell_type": "code",
      "execution_count": 57,
      "metadata": {},
      "outputs": [
        {
          "data": {
            "text/plain": [
              "False"
            ]
          },
          "execution_count": 57,
          "metadata": {},
          "output_type": "execute_result"
        }
      ],
      "source": [
        "bool(\"\")"
      ]
    },
    {
      "cell_type": "code",
      "execution_count": 58,
      "metadata": {},
      "outputs": [
        {
          "data": {
            "text/plain": [
              "True"
            ]
          },
          "execution_count": 58,
          "metadata": {},
          "output_type": "execute_result"
        }
      ],
      "source": [
        "bool(\" \")"
      ]
    },
    {
      "cell_type": "code",
      "execution_count": 59,
      "metadata": {},
      "outputs": [
        {
          "data": {
            "text/plain": [
              "True"
            ]
          },
          "execution_count": 59,
          "metadata": {},
          "output_type": "execute_result"
        }
      ],
      "source": [
        "bool([1,2])"
      ]
    },
    {
      "cell_type": "code",
      "execution_count": 60,
      "metadata": {},
      "outputs": [
        {
          "data": {
            "text/plain": [
              "'C'"
            ]
          },
          "execution_count": 60,
          "metadata": {},
          "output_type": "execute_result"
        }
      ],
      "source": [
        "#Slicing\n",
        "name = 'Chandradeep Jadeja'\n",
        "name[0]"
      ]
    },
    {
      "cell_type": "code",
      "execution_count": 61,
      "metadata": {},
      "outputs": [
        {
          "data": {
            "text/plain": [
              "'n'"
            ]
          },
          "execution_count": 61,
          "metadata": {},
          "output_type": "execute_result"
        }
      ],
      "source": [
        "name[3]"
      ]
    },
    {
      "cell_type": "code",
      "execution_count": 62,
      "metadata": {},
      "outputs": [
        {
          "data": {
            "text/plain": [
              "'dradeep Jadeja'"
            ]
          },
          "execution_count": 62,
          "metadata": {},
          "output_type": "execute_result"
        }
      ],
      "source": [
        "name[4:]"
      ]
    },
    {
      "cell_type": "code",
      "execution_count": 63,
      "metadata": {},
      "outputs": [
        {
          "name": "stdout",
          "output_type": "stream",
          "text": [
            "['Chandradeep', 'Jadeja']\n"
          ]
        }
      ],
      "source": [
        "mylist = name.split(' ')\n",
        "print(mylist)"
      ]
    },
    {
      "cell_type": "code",
      "execution_count": 64,
      "metadata": {},
      "outputs": [
        {
          "name": "stdout",
          "output_type": "stream",
          "text": [
            "['Chandradeep', 'Jadeja', 'CFE']\n"
          ]
        }
      ],
      "source": [
        "mylist.append('CFE')\n",
        "print(mylist)"
      ]
    },
    {
      "cell_type": "code",
      "execution_count": 65,
      "metadata": {},
      "outputs": [
        {
          "data": {
            "text/plain": [
              "'Jadeja'"
            ]
          },
          "execution_count": 65,
          "metadata": {},
          "output_type": "execute_result"
        }
      ],
      "source": [
        "# lists and strings have many common similarities\n",
        "#slicing the list\n",
        "mylist[1]"
      ]
    },
    {
      "cell_type": "code",
      "execution_count": 66,
      "metadata": {},
      "outputs": [
        {
          "data": {
            "text/plain": [
              "'my name is Chandradeep Jadeja'"
            ]
          },
          "execution_count": 66,
          "metadata": {},
          "output_type": "execute_result"
        }
      ],
      "source": [
        "#f strings\n",
        "# insert f just before '\n",
        "f'my name is {name}'"
      ]
    },
    {
      "cell_type": "code",
      "execution_count": 67,
      "metadata": {},
      "outputs": [
        {
          "data": {
            "text/plain": [
              "'my name is Chandradeep Jadeja and I have a son whose age is 3. My age is 11 times his age now. So my age is 33'"
            ]
          },
          "execution_count": 67,
          "metadata": {},
          "output_type": "execute_result"
        }
      ],
      "source": [
        "f'my name is {name} and I have a son whose age is {3}. My age is 11 times his age now. So my age is {3*11}'\n"
      ]
    },
    {
      "cell_type": "code",
      "execution_count": 68,
      "metadata": {},
      "outputs": [
        {
          "data": {
            "text/plain": [
              "3628800"
            ]
          },
          "execution_count": 68,
          "metadata": {},
          "output_type": "execute_result"
        }
      ],
      "source": [
        "math.factorial(10)"
      ]
    },
    {
      "cell_type": "code",
      "execution_count": 69,
      "metadata": {},
      "outputs": [
        {
          "name": "stdout",
          "output_type": "stream",
          "text": [
            "2.718281828459045\n"
          ]
        }
      ],
      "source": [
        "print(math.e)"
      ]
    },
    {
      "cell_type": "code",
      "execution_count": 70,
      "metadata": {},
      "outputs": [
        {
          "data": {
            "text/plain": [
              "3.141592653589793"
            ]
          },
          "execution_count": 70,
          "metadata": {},
          "output_type": "execute_result"
        }
      ],
      "source": [
        "math.pi"
      ]
    },
    {
      "cell_type": "code",
      "execution_count": 71,
      "metadata": {},
      "outputs": [
        {
          "data": {
            "text/plain": [
              "inf"
            ]
          },
          "execution_count": 71,
          "metadata": {},
          "output_type": "execute_result"
        }
      ],
      "source": [
        "math.inf"
      ]
    },
    {
      "cell_type": "code",
      "execution_count": 72,
      "metadata": {},
      "outputs": [
        {
          "data": {
            "text/plain": [
              "6.283185307179586"
            ]
          },
          "execution_count": 72,
          "metadata": {},
          "output_type": "execute_result"
        }
      ],
      "source": [
        "# ratio of circumference of circle to radius of circle\n",
        "math.tau"
      ]
    },
    {
      "cell_type": "code",
      "execution_count": 73,
      "metadata": {},
      "outputs": [
        {
          "data": {
            "text/plain": [
              "2"
            ]
          },
          "execution_count": 73,
          "metadata": {},
          "output_type": "execute_result"
        }
      ],
      "source": [
        "# Ceiling Returns the smallest integral value greater than the number\n",
        "math.ceil(1.5)"
      ]
    },
    {
      "cell_type": "code",
      "execution_count": 74,
      "metadata": {},
      "outputs": [
        {
          "name": "stdout",
          "output_type": "stream",
          "text": [
            "\n",
            "Please wait a moment while I gather a list of all available modules...\n",
            "\n",
            "test_sqlite3: testing with SQLite version 3.45.1\n",
            "IPython             array               math                tabnanny\n",
            "__future__          ast                 matplotlib_inline   tarfile\n",
            "__hello__           asttokens           mimetypes           telnetlib\n",
            "__phello__          asyncio             mmap                tempfile\n",
            "_abc                atexit              mmapfile            test\n",
            "_aix_support        audioop             mmsystem            textwrap\n",
            "_ast                base64              modulefinder        this\n",
            "_asyncio            bdb                 msilib              threading\n",
            "_bisect             binascii            msvcrt              time\n",
            "_blake2             bisect              multiprocessing     timeit\n",
            "_bz2                builtins            nest_asyncio        timer\n",
            "_codecs             bz2                 netbios             tkinter\n",
            "_codecs_cn          cProfile            netrc               token\n",
            "_codecs_hk          calendar            nntplib             tokenize\n",
            "_codecs_iso2022     cgi                 nt                  tomllib\n",
            "_codecs_jp          cgitb               ntpath              tornado\n",
            "_codecs_kr          chunk               ntsecuritycon       trace\n",
            "_codecs_tw          cmath               nturl2path          traceback\n",
            "_collections        cmd                 numbers             tracemalloc\n",
            "_collections_abc    code                odbc                traitlets\n",
            "_compat_pickle      codecs              opcode              tty\n",
            "_compression        codeop              operator            turtle\n",
            "_contextvars        collections         optparse            turtledemo\n",
            "_csv                colorama            os                  types\n",
            "_ctypes             colorsys            packaging           typing\n",
            "_ctypes_test        comm                parso               unicodedata\n",
            "_datetime           commctrl            pathlib             unittest\n",
            "_decimal            compileall          pdb                 urllib\n",
            "_elementtree        concurrent          perfmon             uu\n",
            "_functools          configparser        pickle              uuid\n",
            "_hashlib            contextlib          pickletools         venv\n",
            "_heapq              contextvars         pip                 warnings\n",
            "_imp                copy                pipes               wave\n",
            "_io                 copyreg             pkgutil             wcwidth\n",
            "_json               crypt               platform            weakref\n",
            "_locale             csv                 platformdirs        webbrowser\n",
            "_lsprof             ctypes              plistlib            win2kras\n",
            "_lzma               curses              poplib              win32api\n",
            "_markupbase         dataclasses         posixpath           win32clipboard\n",
            "_md5                datetime            pprint              win32com\n",
            "_msi                dateutil            profile             win32con\n",
            "_multibytecodec     dbi                 prompt_toolkit      win32console\n",
            "_multiprocessing    dbm                 pstats              win32cred\n",
            "_opcode             dde                 psutil              win32crypt\n",
            "_operator           debugpy             pty                 win32cryptcon\n",
            "_osx_support        decimal             pure_eval           win32event\n",
            "_overlapped         decorator           py_compile          win32evtlog\n",
            "_pickle             difflib             pyclbr              win32evtlogutil\n",
            "_py_abc             dis                 pydoc               win32file\n",
            "_pydatetime         doctest             pydoc_data          win32gui\n",
            "_pydecimal          email               pyexpat             win32gui_struct\n",
            "_pyio               encodings           pygments            win32help\n",
            "_pylong             ensurepip           pythoncom           win32inet\n",
            "_queue              enum                pywin               win32inetcon\n",
            "_random             errno               pywin32_bootstrap   win32job\n",
            "_sha1               executing           pywin32_testutil    win32lz\n",
            "_sha2               faulthandler        pywintypes          win32net\n",
            "_sha3               filecmp             queue               win32netcon\n",
            "_signal             fileinput           quopri              win32pdh\n",
            "_sitebuiltins       fnmatch             random              win32pdhquery\n",
            "_socket             fractions           rasutil             win32pdhutil\n",
            "_sqlite3            ftplib              re                  win32pipe\n",
            "_sre                functools           regcheck            win32print\n",
            "_ssl                gc                  regutil             win32process\n",
            "_stat               genericpath         reprlib             win32profile\n",
            "_statistics         getopt              rlcompleter         win32ras\n",
            "_string             getpass             runpy               win32rcparser\n",
            "_strptime           gettext             sched               win32security\n",
            "_struct             glob                secrets             win32service\n",
            "_symtable           graphlib            select              win32serviceutil\n",
            "_testbuffer         gzip                selectors           win32timezone\n",
            "_testcapi           hashlib             servicemanager      win32trace\n",
            "_testclinic         heapq               shelve              win32traceutil\n",
            "_testconsole        hmac                shlex               win32transaction\n",
            "_testimportmultiple html                shutil              win32ts\n",
            "_testinternalcapi   http                signal              win32ui\n",
            "_testmultiphase     idlelib             site                win32uiole\n",
            "_testsinglephase    imaplib             six                 win32verstamp\n",
            "_thread             imghdr              smtplib             win32wnet\n",
            "_threading_local    importlib           sndhdr              winerror\n",
            "_tkinter            inspect             socket              winioctlcon\n",
            "_tokenize           io                  socketserver        winnt\n",
            "_tracemalloc        ipaddress           sqlite3             winperf\n",
            "_typing             ipykernel           sre_compile         winreg\n",
            "_uuid               ipykernel_launcher  sre_constants       winsound\n",
            "_warnings           isapi               sre_parse           winxpgui\n",
            "_weakref            itertools           ssl                 winxptheme\n",
            "_weakrefset         jedi                sspi                wsgiref\n",
            "_win32sysloader     json                sspicon             xdrlib\n",
            "_winapi             jupyter             stack_data          xml\n",
            "_winxptheme         jupyter_client      start_pythonwin     xmlrpc\n",
            "_wmi                jupyter_core        stat                xxsubtype\n",
            "_xxinterpchannels   keyword             statistics          zipapp\n",
            "_xxsubinterpreters  lib2to3             string              zipfile\n",
            "_zoneinfo           linecache           stringprep          zipimport\n",
            "abc                 locale              struct              zlib\n",
            "adodbapi            logging             subprocess          zmq\n",
            "afxres              lzma                sunau               zoneinfo\n",
            "aifc                mailbox             symtable            \n",
            "antigravity         mailcap             sys                 \n",
            "argparse            marshal             sysconfig           \n",
            "\n",
            "Enter any module name to get more help.  Or, type \"modules spam\" to search\n",
            "for modules whose name or summary contain the string \"spam\".\n",
            "\n"
          ]
        }
      ],
      "source": [
        "#get the list of all the modules in python\n",
        "help('modules')"
      ]
    },
    {
      "cell_type": "code",
      "execution_count": 75,
      "metadata": {},
      "outputs": [
        {
          "data": {
            "text/plain": [
              "'the value of pi with 2 decimal places is 3.14'"
            ]
          },
          "execution_count": 75,
          "metadata": {},
          "output_type": "execute_result"
        }
      ],
      "source": [
        "f'the value of pi with 2 decimal places is {math.pi:.2f}'"
      ]
    },
    {
      "cell_type": "code",
      "execution_count": 76,
      "metadata": {},
      "outputs": [
        {
          "data": {
            "text/plain": [
              "'\\nthis is multiline\\ntext\\n'"
            ]
          },
          "execution_count": 76,
          "metadata": {},
          "output_type": "execute_result"
        }
      ],
      "source": [
        "'''\n",
        "this is multiline\n",
        "text\n",
        "'''"
      ]
    },
    {
      "cell_type": "code",
      "execution_count": 77,
      "metadata": {},
      "outputs": [
        {
          "name": "stdout",
          "output_type": "stream",
          "text": [
            "\n",
            "      this\n",
            "      is\n",
            "      multiline\n",
            "      text\n",
            "      \n"
          ]
        }
      ],
      "source": [
        "print('''\n",
        "      this\n",
        "      is\n",
        "      multiline\n",
        "      text\n",
        "      ''')"
      ]
    },
    {
      "cell_type": "code",
      "execution_count": null,
      "metadata": {},
      "outputs": [],
      "source": []
    },
    {
      "cell_type": "code",
      "execution_count": null,
      "metadata": {},
      "outputs": [],
      "source": []
    }
  ],
  "metadata": {
    "colab": {
      "provenance": []
    },
    "kernelspec": {
      "display_name": "Python 3",
      "name": "python3"
    },
    "language_info": {
      "codemirror_mode": {
        "name": "ipython",
        "version": 3
      },
      "file_extension": ".py",
      "mimetype": "text/x-python",
      "name": "python",
      "nbconvert_exporter": "python",
      "pygments_lexer": "ipython3",
      "version": "3.12.3"
    }
  },
  "nbformat": 4,
  "nbformat_minor": 0
}
