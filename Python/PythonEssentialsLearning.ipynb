{
  "cells": [
    {
      "cell_type": "markdown",
      "metadata": {
        "id": "NXrDkap3tkuz"
      },
      "source": [
        "# ***Python Notes:***"
      ]
    },
    {
      "cell_type": "code",
      "execution_count": 84,
      "metadata": {},
      "outputs": [],
      "source": [
        "#Imported Class \"Decimal\" and \"getcontext\" function from \"decimal\" module\n",
        "from decimal import Decimal, getcontext\n",
        "#import math\n",
        "import math"
      ]
    },
    {
      "cell_type": "code",
      "execution_count": 85,
      "metadata": {
        "colab": {
          "base_uri": "https://localhost:8080/"
        },
        "id": "7ryI-6Okrly6",
        "outputId": "b3a1013e-66c8-46c6-e3f5-eda1ceb9c659"
      },
      "outputs": [
        {
          "name": "stdout",
          "output_type": "stream",
          "text": [
            "Bapu Ni Mauj\n"
          ]
        }
      ],
      "source": [
        "# # Print Jay Kailashgiri Bapu\n",
        "print('Bapu Ni Mauj')"
      ]
    },
    {
      "cell_type": "code",
      "execution_count": 86,
      "metadata": {
        "colab": {
          "base_uri": "https://localhost:8080/"
        },
        "id": "Hbli8p-otvPL",
        "outputId": "64141a6b-23b6-4318-a6b0-96dc9de9b834"
      },
      "outputs": [],
      "source": [
        "import this"
      ]
    },
    {
      "cell_type": "code",
      "execution_count": 87,
      "metadata": {
        "colab": {
          "base_uri": "https://localhost:8080/"
        },
        "id": "2j8fZCRhtxh4",
        "outputId": "c827ae7e-cec6-48ad-e5c4-1557d63ecab8"
      },
      "outputs": [
        {
          "name": "stdout",
          "output_type": "stream",
          "text": [
            "5\n"
          ]
        }
      ],
      "source": [
        "# '='  is an assignment operator\n",
        "x=5\n",
        "print(x)"
      ]
    },
    {
      "cell_type": "code",
      "execution_count": 88,
      "metadata": {
        "colab": {
          "base_uri": "https://localhost:8080/"
        },
        "id": "cmLdQ0EBz9gi",
        "outputId": "ac36a09f-7492-4d30-a5f2-9e9e2d696912"
      },
      "outputs": [
        {
          "data": {
            "text/plain": [
              "5"
            ]
          },
          "execution_count": 88,
          "metadata": {},
          "output_type": "execute_result"
        }
      ],
      "source": [
        "x"
      ]
    },
    {
      "cell_type": "code",
      "execution_count": 89,
      "metadata": {
        "id": "zCUELoqz0Izl"
      },
      "outputs": [],
      "source": [
        "# Variable can't start with numbers\n",
        "# No special chars except '_'\n",
        "# They start with lower case numbers only (Upper class for class)"
      ]
    },
    {
      "cell_type": "code",
      "execution_count": 90,
      "metadata": {
        "colab": {
          "base_uri": "https://localhost:8080/"
        },
        "id": "bmVjquTb0lo9",
        "outputId": "6ae59f0b-8643-4729-ac47-5f43482e7e72"
      },
      "outputs": [
        {
          "data": {
            "text/plain": [
              "int"
            ]
          },
          "execution_count": 90,
          "metadata": {},
          "output_type": "execute_result"
        }
      ],
      "source": [
        "type(x)"
      ]
    },
    {
      "cell_type": "code",
      "execution_count": 91,
      "metadata": {
        "colab": {
          "base_uri": "https://localhost:8080/"
        },
        "id": "f5G8p2tj0nZx",
        "outputId": "29006b60-cb4d-45de-9de9-0fceb292a36f"
      },
      "outputs": [
        {
          "data": {
            "text/plain": [
              "float"
            ]
          },
          "execution_count": 91,
          "metadata": {},
          "output_type": "execute_result"
        }
      ],
      "source": [
        "type(x/2)"
      ]
    },
    {
      "cell_type": "code",
      "execution_count": 92,
      "metadata": {
        "colab": {
          "base_uri": "https://localhost:8080/"
        },
        "id": "KI6rRoot0tCt",
        "outputId": "5980ab61-21e0-4611-ea4c-e14b2f4bb602"
      },
      "outputs": [
        {
          "data": {
            "text/plain": [
              "complex"
            ]
          },
          "execution_count": 92,
          "metadata": {},
          "output_type": "execute_result"
        }
      ],
      "source": [
        "type(2j)"
      ]
    },
    {
      "cell_type": "code",
      "execution_count": 93,
      "metadata": {
        "colab": {
          "base_uri": "https://localhost:8080/"
        },
        "id": "aYusadXl1Lfd",
        "outputId": "553bca63-d755-4ac3-da24-6b3787196612"
      },
      "outputs": [
        {
          "data": {
            "text/plain": [
              "(-4+0j)"
            ]
          },
          "execution_count": 93,
          "metadata": {},
          "output_type": "execute_result"
        }
      ],
      "source": [
        "2j*2j"
      ]
    },
    {
      "cell_type": "code",
      "execution_count": 94,
      "metadata": {
        "colab": {
          "base_uri": "https://localhost:8080/",
          "height": 35
        },
        "id": "Y_hvGa1M4iBJ",
        "outputId": "40b1050c-a3e1-4b57-c2e8-c84bb7e19950"
      },
      "outputs": [
        {
          "data": {
            "text/plain": [
              "'12'"
            ]
          },
          "execution_count": 94,
          "metadata": {},
          "output_type": "execute_result"
        }
      ],
      "source": [
        "\"1\"+'2'"
      ]
    },
    {
      "cell_type": "code",
      "execution_count": 95,
      "metadata": {
        "id": "r-sf-ASi1G3O"
      },
      "outputs": [],
      "source": [
        "# '==' is a statement"
      ]
    },
    {
      "cell_type": "code",
      "execution_count": 96,
      "metadata": {
        "colab": {
          "base_uri": "https://localhost:8080/"
        },
        "id": "_D1rX9Lc5905",
        "outputId": "b0c91f13-a31d-4010-ca6c-1ca8f03c851c"
      },
      "outputs": [
        {
          "name": "stdout",
          "output_type": "stream",
          "text": [
            "['Chandradeep', [1, 2, 3, 4], 'Apple', 'Banana', 'Apple']\n",
            "{'Banana', 'Chandradeep', 'Apple'}\n"
          ]
        }
      ],
      "source": [
        "#list\n",
        "my_list = ['Chandradeep',[1,2,3,4],'Apple','Banana','Apple']\n",
        "my_set = {'Chandradeep','Apple','Banana','Apple'}\n",
        "print(my_list)\n",
        "print(my_set)"
      ]
    },
    {
      "cell_type": "code",
      "execution_count": 97,
      "metadata": {
        "colab": {
          "base_uri": "https://localhost:8080/"
        },
        "id": "hKr9RpN1cCxF",
        "outputId": "36fb70e4-d22a-42ed-d143-dd7fa98a293e"
      },
      "outputs": [
        {
          "data": {
            "text/plain": [
              "False"
            ]
          },
          "execution_count": 97,
          "metadata": {},
          "output_type": "execute_result"
        }
      ],
      "source": [
        "[1,2] == [2,1]"
      ]
    },
    {
      "cell_type": "code",
      "execution_count": 98,
      "metadata": {
        "colab": {
          "base_uri": "https://localhost:8080/"
        },
        "id": "EohNBmiYcJbA",
        "outputId": "6afcf271-dd17-4db7-871e-b8d99cabe429"
      },
      "outputs": [
        {
          "data": {
            "text/plain": [
              "True"
            ]
          },
          "execution_count": 98,
          "metadata": {},
          "output_type": "execute_result"
        }
      ],
      "source": [
        "{1,2} == {2,1}"
      ]
    },
    {
      "cell_type": "code",
      "execution_count": 99,
      "metadata": {
        "id": "APST_2Vi_pRi"
      },
      "outputs": [],
      "source": [
        "# list can have repeats\n",
        "# set can have repeats, but only uniques will be considered\n",
        "# set cannot have list\n",
        "# list can have list\n",
        "# order of elements does matter in lists, but not in case of sets\n",
        "# tuples () are similar to list, but just that once declated the values of tuples cannot be modified - Tuples are memory efficient. So can be used for fixed length variables like x,y co-ordinates.\n",
        "# Order also matters for tuples"
      ]
    },
    {
      "cell_type": "code",
      "execution_count": 100,
      "metadata": {
        "colab": {
          "base_uri": "https://localhost:8080/"
        },
        "id": "ieEHp_6X_7MZ",
        "outputId": "86d8f087-04ea-45e2-ecaa-7c4c96e32d1c"
      },
      "outputs": [
        {
          "name": "stdout",
          "output_type": "stream",
          "text": [
            "<class 'dict'>\n"
          ]
        }
      ],
      "source": [
        "# Dictionaries have unique Keys\n",
        "my_dictionary  = {\n",
        "    'Name': 'JKB',\n",
        "    'Amount': 500\n",
        "}\n",
        "print(type(my_dictionary))"
      ]
    },
    {
      "cell_type": "code",
      "execution_count": 101,
      "metadata": {
        "colab": {
          "base_uri": "https://localhost:8080/"
        },
        "id": "M90Vuq1kEGi3",
        "outputId": "34ad310f-3aa9-402e-9f6c-9737a1913c6e"
      },
      "outputs": [
        {
          "name": "stdout",
          "output_type": "stream",
          "text": [
            "JKB\n"
          ]
        }
      ],
      "source": [
        "print(my_dictionary['Name'])"
      ]
    },
    {
      "cell_type": "code",
      "execution_count": 102,
      "metadata": {
        "colab": {
          "base_uri": "https://localhost:8080/"
        },
        "id": "zUlfchjrFfVY",
        "outputId": "7ed9ab71-fa50-4d57-d5fa-6ddb52d35392"
      },
      "outputs": [
        {
          "name": "stdout",
          "output_type": "stream",
          "text": [
            "2\n"
          ]
        }
      ],
      "source": [
        "print(len(my_dictionary))"
      ]
    },
    {
      "cell_type": "code",
      "execution_count": 103,
      "metadata": {
        "colab": {
          "base_uri": "https://localhost:8080/"
        },
        "id": "VJjuGEiuFm9s",
        "outputId": "ef265ec3-5502-4102-aa93-7bd10295b33f"
      },
      "outputs": [
        {
          "data": {
            "text/plain": [
              "25"
            ]
          },
          "execution_count": 103,
          "metadata": {},
          "output_type": "execute_result"
        }
      ],
      "source": [
        "#square is **\n",
        "5**2"
      ]
    },
    {
      "cell_type": "code",
      "execution_count": 104,
      "metadata": {
        "colab": {
          "base_uri": "https://localhost:8080/"
        },
        "id": "xm1jH5e8Goe6",
        "outputId": "1c75b64e-6cc0-4754-b2ec-620f842a18cb"
      },
      "outputs": [
        {
          "name": "stdout",
          "output_type": "stream",
          "text": [
            "2.0\n"
          ]
        },
        {
          "data": {
            "text/plain": [
              "float"
            ]
          },
          "execution_count": 104,
          "metadata": {},
          "output_type": "execute_result"
        }
      ],
      "source": [
        "#division always returns a float value\n",
        "a = 2/1\n",
        "print (a)\n",
        "type (a)"
      ]
    },
    {
      "cell_type": "code",
      "execution_count": 105,
      "metadata": {
        "colab": {
          "base_uri": "https://localhost:8080/"
        },
        "id": "sj8U4kvXPzyt",
        "outputId": "e57fae76-7821-49ba-f284-5ecd0d57ea80"
      },
      "outputs": [
        {
          "data": {
            "text/plain": [
              "2"
            ]
          },
          "execution_count": 105,
          "metadata": {},
          "output_type": "execute_result"
        }
      ],
      "source": [
        "# Modulus gives remainder\n",
        "20 % 6"
      ]
    },
    {
      "cell_type": "code",
      "execution_count": 106,
      "metadata": {
        "colab": {
          "base_uri": "https://localhost:8080/",
          "height": 35
        },
        "id": "WqbckYLaQBi1",
        "outputId": "72e8d424-2b6b-4215-c539-c2cdf9b27155"
      },
      "outputs": [
        {
          "data": {
            "text/plain": [
              "' Chandradeep  Chandradeep  Chandradeep  Chandradeep '"
            ]
          },
          "execution_count": 106,
          "metadata": {},
          "output_type": "execute_result"
        }
      ],
      "source": [
        "# String multiplication is possible\n",
        "\" Chandradeep \"*4"
      ]
    },
    {
      "cell_type": "code",
      "execution_count": 107,
      "metadata": {
        "id": "RpOqcOPhTb3u"
      },
      "outputs": [],
      "source": [
        "# Comparison Operators ( == > <)\n",
        "# Logical Operators (and, or, not)\n",
        "# Membership Operators (in not in)"
      ]
    },
    {
      "cell_type": "code",
      "execution_count": 108,
      "metadata": {
        "colab": {
          "base_uri": "https://localhost:8080/"
        },
        "id": "TcykDl6MPYaC",
        "outputId": "4727cd30-c7ee-4973-dcc8-1a86ee4c10ef"
      },
      "outputs": [
        {
          "data": {
            "text/plain": [
              "True"
            ]
          },
          "execution_count": 108,
          "metadata": {},
          "output_type": "execute_result"
        }
      ],
      "source": [
        "True != False"
      ]
    },
    {
      "cell_type": "code",
      "execution_count": 109,
      "metadata": {
        "colab": {
          "base_uri": "https://localhost:8080/"
        },
        "id": "uBw9iPCAp0AW",
        "outputId": "c78ce108-03fc-427e-ea61-ad484fa447b7"
      },
      "outputs": [
        {
          "name": "stdout",
          "output_type": "stream",
          "text": [
            "Om Nammah Shivay\n",
            "Ram Ram\n"
          ]
        }
      ],
      "source": [
        "# True can't be true and False can't be false\n",
        "# Indentation matters\n",
        "a = False\n",
        "if a:\n",
        "  print(\"Sitaram\")\n",
        "else:\n",
        "  print('Om Nammah Shivay')\n",
        "print('Ram Ram')"
      ]
    },
    {
      "cell_type": "code",
      "execution_count": 110,
      "metadata": {},
      "outputs": [
        {
          "name": "stdout",
          "output_type": "stream",
          "text": [
            "\n",
            "None\n"
          ]
        }
      ],
      "source": [
        "#print function returns None. None is a python keyword.\n",
        "print(print())"
      ]
    },
    {
      "cell_type": "code",
      "execution_count": 111,
      "metadata": {
        "colab": {
          "base_uri": "https://localhost:8080/"
        },
        "id": "VbYfxG3rHz-a",
        "outputId": "c6abd705-df70-4268-e662-f70a38c1f569"
      },
      "outputs": [
        {
          "data": {
            "text/plain": [
              "9"
            ]
          },
          "execution_count": 111,
          "metadata": {},
          "output_type": "execute_result"
        }
      ],
      "source": [
        "# int does not have len() function\n",
        "def countlength(msisdn):\n",
        "    return len(msisdn)\n",
        "\n",
        "countlength('123456789')"
      ]
    },
    {
      "cell_type": "code",
      "execution_count": 112,
      "metadata": {
        "id": "ea4Snne11PKo"
      },
      "outputs": [],
      "source": [
        "class Dog:\n",
        "  def __init__(self,name):\n",
        "    self.name = name\n",
        "    self.legs = 4\n",
        "\n",
        "  def speak(self):\n",
        "    print(\"Bark!\")"
      ]
    },
    {
      "cell_type": "code",
      "execution_count": 113,
      "metadata": {
        "colab": {
          "base_uri": "https://localhost:8080/",
          "height": 35
        },
        "id": "2MToKKLB6OuT",
        "outputId": "4fe40b8b-3a04-4ad1-884b-fa9097fb3a94"
      },
      "outputs": [
        {
          "data": {
            "text/plain": [
              "'Tuffy'"
            ]
          },
          "execution_count": 113,
          "metadata": {},
          "output_type": "execute_result"
        }
      ],
      "source": [
        "first_dog = Dog(\"Tuffy\")\n",
        "second_dog = Dog(\"Tommy\")\n",
        "first_dog.name"
      ]
    },
    {
      "cell_type": "code",
      "execution_count": 114,
      "metadata": {
        "colab": {
          "base_uri": "https://localhost:8080/",
          "height": 35
        },
        "id": "d-DoaeK_6u7m",
        "outputId": "8a924d8b-3b00-4224-b09c-38c1b177385f"
      },
      "outputs": [
        {
          "data": {
            "text/plain": [
              "'Tommy'"
            ]
          },
          "execution_count": 114,
          "metadata": {},
          "output_type": "execute_result"
        }
      ],
      "source": [
        "second_dog.name"
      ]
    },
    {
      "cell_type": "code",
      "execution_count": 115,
      "metadata": {
        "colab": {
          "base_uri": "https://localhost:8080/"
        },
        "id": "gUTqqqqF6wx4",
        "outputId": "14faab8c-446e-4f9a-a09f-7ca13833c2b0"
      },
      "outputs": [
        {
          "data": {
            "text/plain": [
              "4"
            ]
          },
          "execution_count": 115,
          "metadata": {},
          "output_type": "execute_result"
        }
      ],
      "source": [
        "first_dog.legs"
      ]
    },
    {
      "cell_type": "code",
      "execution_count": 116,
      "metadata": {
        "colab": {
          "base_uri": "https://localhost:8080/"
        },
        "id": "t08o9WF061Bv",
        "outputId": "9b3c5736-8c41-4c20-c1fb-9c5b18ecb25c"
      },
      "outputs": [
        {
          "data": {
            "text/plain": [
              "str"
            ]
          },
          "execution_count": 116,
          "metadata": {},
          "output_type": "execute_result"
        }
      ],
      "source": [
        "type('apple')"
      ]
    },
    {
      "cell_type": "code",
      "execution_count": 117,
      "metadata": {
        "id": "moqeIjKpBdjp"
      },
      "outputs": [],
      "source": [
        "# str, float, int, bool, list are all classes"
      ]
    },
    {
      "cell_type": "code",
      "execution_count": 118,
      "metadata": {
        "colab": {
          "base_uri": "https://localhost:8080/"
        },
        "id": "_WkZ4RcYB0oK",
        "outputId": "2b5bc792-6ef2-4653-e09f-4d5a1d314a10"
      },
      "outputs": [
        {
          "data": {
            "text/plain": [
              "0.099"
            ]
          },
          "execution_count": 118,
          "metadata": {},
          "output_type": "execute_result"
        }
      ],
      "source": [
        "#Wierd rounding errors in python\n",
        "round(1.2-1.101,3)"
      ]
    },
    {
      "cell_type": "code",
      "execution_count": 119,
      "metadata": {
        "colab": {
          "base_uri": "https://localhost:8080/"
        },
        "id": "KH7mzErECahC",
        "outputId": "ed031ffd-278e-4c71-ace9-c961bb0895b0"
      },
      "outputs": [
        {
          "data": {
            "text/plain": [
              "100"
            ]
          },
          "execution_count": 119,
          "metadata": {},
          "output_type": "execute_result"
        }
      ],
      "source": [
        "int('100')"
      ]
    },
    {
      "cell_type": "code",
      "execution_count": 120,
      "metadata": {
        "colab": {
          "base_uri": "https://localhost:8080/"
        },
        "id": "M2Z-KSYCCw4n",
        "outputId": "fb07b641-9623-46d6-e7d9-fe6b6fe49cf2"
      },
      "outputs": [
        {
          "data": {
            "text/plain": [
              "8"
            ]
          },
          "execution_count": 120,
          "metadata": {},
          "output_type": "execute_result"
        }
      ],
      "source": [
        "# base 1000 of base 10, so what of 2? 10*10*10 = 1000, so 2*2*2 = 8\n",
        "int('1000',2)"
      ]
    },
    {
      "cell_type": "code",
      "execution_count": 121,
      "metadata": {},
      "outputs": [],
      "source": [
        "def factorial(num):\n",
        "    if type(num) != int:\n",
        "        return None\n",
        "    if num < 0:\n",
        "        return None\n",
        "    if num == 0:\n",
        "        return 1\n",
        "    return num * factorial(num-1)"
      ]
    },
    {
      "cell_type": "code",
      "execution_count": 122,
      "metadata": {},
      "outputs": [
        {
          "data": {
            "text/plain": [
              "3628800"
            ]
          },
          "execution_count": 122,
          "metadata": {},
          "output_type": "execute_result"
        }
      ],
      "source": [
        "factorial(10)"
      ]
    },
    {
      "cell_type": "code",
      "execution_count": 123,
      "metadata": {},
      "outputs": [],
      "source": [
        "#Solution 2\n",
        "def factorial2(number):\n",
        "    if number < 0:\n",
        "        return None\n",
        "    if type(number) != int:\n",
        "        return None\n",
        "    counter = 1\n",
        "    fact = 1\n",
        "    while counter <= number:\n",
        "        fact = fact * counter\n",
        "        counter = counter + 1\n",
        "    return fact"
      ]
    },
    {
      "cell_type": "code",
      "execution_count": 124,
      "metadata": {},
      "outputs": [
        {
          "data": {
            "text/plain": [
              "3628800"
            ]
          },
          "execution_count": 124,
          "metadata": {},
          "output_type": "execute_result"
        }
      ],
      "source": [
        "factorial2(10)"
      ]
    },
    {
      "cell_type": "code",
      "execution_count": 125,
      "metadata": {},
      "outputs": [
        {
          "data": {
            "text/plain": [
              "Context(prec=4, rounding=ROUND_HALF_EVEN, Emin=-999999, Emax=999999, capitals=1, clamp=0, flags=[Inexact, Rounded], traps=[InvalidOperation, DivisionByZero, Overflow])"
            ]
          },
          "execution_count": 125,
          "metadata": {},
          "output_type": "execute_result"
        }
      ],
      "source": [
        "getcontext()"
      ]
    },
    {
      "cell_type": "code",
      "execution_count": 126,
      "metadata": {},
      "outputs": [
        {
          "data": {
            "text/plain": [
              "Decimal('0.3333')"
            ]
          },
          "execution_count": 126,
          "metadata": {},
          "output_type": "execute_result"
        }
      ],
      "source": [
        "Decimal(1)/Decimal(3)"
      ]
    },
    {
      "cell_type": "code",
      "execution_count": 127,
      "metadata": {},
      "outputs": [],
      "source": [
        "getcontext().prec = 4"
      ]
    },
    {
      "cell_type": "code",
      "execution_count": 128,
      "metadata": {},
      "outputs": [
        {
          "data": {
            "text/plain": [
              "Decimal('0.3333')"
            ]
          },
          "execution_count": 128,
          "metadata": {},
          "output_type": "execute_result"
        }
      ],
      "source": [
        "Decimal(1)/Decimal(3)"
      ]
    },
    {
      "cell_type": "code",
      "execution_count": 129,
      "metadata": {},
      "outputs": [],
      "source": [
        "#Round the floats appropriately"
      ]
    },
    {
      "cell_type": "code",
      "execution_count": 130,
      "metadata": {},
      "outputs": [
        {
          "data": {
            "text/plain": [
              "True"
            ]
          },
          "execution_count": 130,
          "metadata": {},
          "output_type": "execute_result"
        }
      ],
      "source": [
        "bool(1)"
      ]
    },
    {
      "cell_type": "code",
      "execution_count": 131,
      "metadata": {},
      "outputs": [
        {
          "data": {
            "text/plain": [
              "True"
            ]
          },
          "execution_count": 131,
          "metadata": {},
          "output_type": "execute_result"
        }
      ],
      "source": [
        "bool(2)"
      ]
    },
    {
      "cell_type": "code",
      "execution_count": 132,
      "metadata": {},
      "outputs": [
        {
          "data": {
            "text/plain": [
              "True"
            ]
          },
          "execution_count": 132,
          "metadata": {},
          "output_type": "execute_result"
        }
      ],
      "source": [
        "bool('True')"
      ]
    },
    {
      "cell_type": "code",
      "execution_count": 133,
      "metadata": {},
      "outputs": [
        {
          "data": {
            "text/plain": [
              "True"
            ]
          },
          "execution_count": 133,
          "metadata": {},
          "output_type": "execute_result"
        }
      ],
      "source": [
        "bool('True')"
      ]
    },
    {
      "cell_type": "code",
      "execution_count": 134,
      "metadata": {},
      "outputs": [
        {
          "data": {
            "text/plain": [
              "True"
            ]
          },
          "execution_count": 134,
          "metadata": {},
          "output_type": "execute_result"
        }
      ],
      "source": [
        "bool('False')"
      ]
    },
    {
      "cell_type": "code",
      "execution_count": 135,
      "metadata": {},
      "outputs": [
        {
          "data": {
            "text/plain": [
              "True"
            ]
          },
          "execution_count": 135,
          "metadata": {},
          "output_type": "execute_result"
        }
      ],
      "source": [
        "bool(-1)"
      ]
    },
    {
      "cell_type": "code",
      "execution_count": 136,
      "metadata": {},
      "outputs": [
        {
          "data": {
            "text/plain": [
              "False"
            ]
          },
          "execution_count": 136,
          "metadata": {},
          "output_type": "execute_result"
        }
      ],
      "source": [
        "bool(0.0)"
      ]
    },
    {
      "cell_type": "code",
      "execution_count": 137,
      "metadata": {},
      "outputs": [
        {
          "data": {
            "text/plain": [
              "False"
            ]
          },
          "execution_count": 137,
          "metadata": {},
          "output_type": "execute_result"
        }
      ],
      "source": [
        "bool(0)"
      ]
    },
    {
      "cell_type": "code",
      "execution_count": 138,
      "metadata": {},
      "outputs": [
        {
          "data": {
            "text/plain": [
              "False"
            ]
          },
          "execution_count": 138,
          "metadata": {},
          "output_type": "execute_result"
        }
      ],
      "source": [
        "bool({})"
      ]
    },
    {
      "cell_type": "code",
      "execution_count": 139,
      "metadata": {},
      "outputs": [
        {
          "data": {
            "text/plain": [
              "False"
            ]
          },
          "execution_count": 139,
          "metadata": {},
          "output_type": "execute_result"
        }
      ],
      "source": [
        "bool([])"
      ]
    },
    {
      "cell_type": "code",
      "execution_count": 140,
      "metadata": {},
      "outputs": [
        {
          "data": {
            "text/plain": [
              "False"
            ]
          },
          "execution_count": 140,
          "metadata": {},
          "output_type": "execute_result"
        }
      ],
      "source": [
        "bool(\"\")"
      ]
    },
    {
      "cell_type": "code",
      "execution_count": 141,
      "metadata": {},
      "outputs": [
        {
          "data": {
            "text/plain": [
              "True"
            ]
          },
          "execution_count": 141,
          "metadata": {},
          "output_type": "execute_result"
        }
      ],
      "source": [
        "bool(\" \")"
      ]
    },
    {
      "cell_type": "code",
      "execution_count": 142,
      "metadata": {},
      "outputs": [
        {
          "data": {
            "text/plain": [
              "True"
            ]
          },
          "execution_count": 142,
          "metadata": {},
          "output_type": "execute_result"
        }
      ],
      "source": [
        "bool([1,2])"
      ]
    },
    {
      "cell_type": "code",
      "execution_count": 143,
      "metadata": {},
      "outputs": [
        {
          "data": {
            "text/plain": [
              "'C'"
            ]
          },
          "execution_count": 143,
          "metadata": {},
          "output_type": "execute_result"
        }
      ],
      "source": [
        "#Slicing\n",
        "name = 'Chandradeep Jadeja'\n",
        "name[0]"
      ]
    },
    {
      "cell_type": "code",
      "execution_count": 144,
      "metadata": {},
      "outputs": [
        {
          "data": {
            "text/plain": [
              "'n'"
            ]
          },
          "execution_count": 144,
          "metadata": {},
          "output_type": "execute_result"
        }
      ],
      "source": [
        "name[3]"
      ]
    },
    {
      "cell_type": "code",
      "execution_count": 145,
      "metadata": {},
      "outputs": [
        {
          "data": {
            "text/plain": [
              "'dradeep Jadeja'"
            ]
          },
          "execution_count": 145,
          "metadata": {},
          "output_type": "execute_result"
        }
      ],
      "source": [
        "name[4:]"
      ]
    },
    {
      "cell_type": "code",
      "execution_count": 146,
      "metadata": {},
      "outputs": [
        {
          "name": "stdout",
          "output_type": "stream",
          "text": [
            "['Chandradeep', 'Jadeja']\n"
          ]
        }
      ],
      "source": [
        "mylist = name.split(' ')\n",
        "print(mylist)"
      ]
    },
    {
      "cell_type": "code",
      "execution_count": 147,
      "metadata": {},
      "outputs": [
        {
          "name": "stdout",
          "output_type": "stream",
          "text": [
            "['Chandradeep', 'Jadeja', 'CFE']\n"
          ]
        }
      ],
      "source": [
        "mylist.append('CFE')\n",
        "print(mylist)"
      ]
    },
    {
      "cell_type": "code",
      "execution_count": 148,
      "metadata": {},
      "outputs": [
        {
          "data": {
            "text/plain": [
              "'Jadeja'"
            ]
          },
          "execution_count": 148,
          "metadata": {},
          "output_type": "execute_result"
        }
      ],
      "source": [
        "# lists and strings have many common similarities\n",
        "#slicing the list\n",
        "mylist[1]"
      ]
    },
    {
      "cell_type": "code",
      "execution_count": 149,
      "metadata": {},
      "outputs": [
        {
          "data": {
            "text/plain": [
              "'my name is Chandradeep Jadeja'"
            ]
          },
          "execution_count": 149,
          "metadata": {},
          "output_type": "execute_result"
        }
      ],
      "source": [
        "#f strings\n",
        "# insert f just before '\n",
        "f'my name is {name}'"
      ]
    },
    {
      "cell_type": "code",
      "execution_count": 150,
      "metadata": {},
      "outputs": [
        {
          "data": {
            "text/plain": [
              "'my name is Chandradeep Jadeja and I have a son whose age is 3. My age is 11 times his age now. So my age is 33'"
            ]
          },
          "execution_count": 150,
          "metadata": {},
          "output_type": "execute_result"
        }
      ],
      "source": [
        "f'my name is {name} and I have a son whose age is {3}. My age is 11 times his age now. So my age is {3*11}'\n"
      ]
    },
    {
      "cell_type": "code",
      "execution_count": 151,
      "metadata": {},
      "outputs": [
        {
          "data": {
            "text/plain": [
              "3628800"
            ]
          },
          "execution_count": 151,
          "metadata": {},
          "output_type": "execute_result"
        }
      ],
      "source": [
        "math.factorial(10)"
      ]
    },
    {
      "cell_type": "code",
      "execution_count": 152,
      "metadata": {},
      "outputs": [
        {
          "name": "stdout",
          "output_type": "stream",
          "text": [
            "2.718281828459045\n"
          ]
        }
      ],
      "source": [
        "print(math.e)"
      ]
    },
    {
      "cell_type": "code",
      "execution_count": 153,
      "metadata": {},
      "outputs": [
        {
          "data": {
            "text/plain": [
              "3.141592653589793"
            ]
          },
          "execution_count": 153,
          "metadata": {},
          "output_type": "execute_result"
        }
      ],
      "source": [
        "math.pi"
      ]
    },
    {
      "cell_type": "code",
      "execution_count": 154,
      "metadata": {},
      "outputs": [
        {
          "data": {
            "text/plain": [
              "inf"
            ]
          },
          "execution_count": 154,
          "metadata": {},
          "output_type": "execute_result"
        }
      ],
      "source": [
        "math.inf"
      ]
    },
    {
      "cell_type": "code",
      "execution_count": 155,
      "metadata": {},
      "outputs": [
        {
          "data": {
            "text/plain": [
              "6.283185307179586"
            ]
          },
          "execution_count": 155,
          "metadata": {},
          "output_type": "execute_result"
        }
      ],
      "source": [
        "# ratio of circumference of circle to radius of circle\n",
        "math.tau"
      ]
    },
    {
      "cell_type": "code",
      "execution_count": 156,
      "metadata": {},
      "outputs": [
        {
          "data": {
            "text/plain": [
              "2"
            ]
          },
          "execution_count": 156,
          "metadata": {},
          "output_type": "execute_result"
        }
      ],
      "source": [
        "# Ceiling Returns the smallest integral value greater than the number\n",
        "math.ceil(1.5)"
      ]
    },
    {
      "cell_type": "code",
      "execution_count": 157,
      "metadata": {},
      "outputs": [
        {
          "name": "stdout",
          "output_type": "stream",
          "text": [
            "\n",
            "Please wait a moment while I gather a list of all available modules...\n",
            "\n"
          ]
        },
        {
          "name": "stderr",
          "output_type": "stream",
          "text": [
            "/home/codespace/.python/current/lib/python3.10/pkgutil.py:92: DeprecationWarning:\n",
            "\n",
            "The distutils package is deprecated and slated for removal in Python 3.12. Use setuptools or check PEP 632 for potential alternatives\n",
            "\n"
          ]
        },
        {
          "name": "stdout",
          "output_type": "stream",
          "text": [
            "IPython             atexit              joblib              rlcompleter\n",
            "PIL                 attr                json                rpds\n",
            "__future__          attrs               json5               runpy\n",
            "_abc                audioop             jsonpointer         sched\n",
            "_aix_support        babel               jsonschema          scipy\n",
            "_argon2_cffi_bindings base64              jsonschema_specifications seaborn\n",
            "_ast                bdb                 jupyter             secrets\n",
            "_asyncio            binascii            jupyter_client      select\n",
            "_bisect             binhex              jupyter_core        selectors\n",
            "_blake2             bisect              jupyter_events      send2trash\n",
            "_bootsubprocess     bleach              jupyter_lsp         setuptools\n",
            "_bz2                bs4                 jupyter_server      shelve\n",
            "_cffi_backend       builtins            jupyter_server_mathjax shlex\n",
            "_codecs             bz2                 jupyter_server_terminals shutil\n",
            "_codecs_cn          cProfile            jupyterlab          signal\n",
            "_codecs_hk          calendar            jupyterlab_git      site\n",
            "_codecs_iso2022     certifi             jupyterlab_plotly   six\n",
            "_codecs_jp          cffi                jupyterlab_pygments sklearn\n",
            "_codecs_kr          cgi                 jupyterlab_server   smmap\n",
            "_codecs_tw          cgitb               keyword             smtpd\n",
            "_collections        charset_normalizer  kiwisolver          smtplib\n",
            "_collections_abc    chunk               lib2to3             sndhdr\n",
            "_compat_pickle      cmath               linecache           sniffio\n",
            "_compression        cmd                 locale              socket\n",
            "_contextvars        code                logging             socketserver\n",
            "_crypt              codecs              lzma                soupsieve\n",
            "_csv                codeop              mailbox             spwd\n",
            "_ctypes             collections         mailcap             sqlite3\n",
            "_ctypes_test        colorama            markupsafe          sre_compile\n",
            "_curses             colorsys            marshal             sre_constants\n",
            "_curses_panel       comm                math                sre_parse\n",
            "_datetime           compileall          matplotlib          ssl\n",
            "_decimal            concurrent          matplotlib_inline   stack_data\n",
            "_distutils_hack     configparser        mimetypes           stat\n",
            "_elementtree        contextlib          mistune             statistics\n",
            "_functools          contextvars         mmap                string\n",
            "_gdbm               contourpy           modulefinder        stringprep\n",
            "_hashlib            copy                mpmath              struct\n",
            "_heapq              copyreg             multiprocessing     subprocess\n",
            "_imp                crypt               nbclient            sunau\n",
            "_io                 csv                 nbconvert           sympy\n",
            "_json               ctypes              nbdime              symtable\n",
            "_locale             curses              nbformat            sys\n",
            "_lsprof             cycler              nest_asyncio        sysconfig\n",
            "_lzma               dataclasses         netrc               syslog\n",
            "_markupbase         datetime            networkx            tabnanny\n",
            "_md5                dateutil            nis                 tarfile\n",
            "_multibytecodec     dbm                 nntplib             telnetlib\n",
            "_multiprocessing    debugpy             notebook_shim       tempfile\n",
            "_opcode             decimal             ntpath              tenacity\n",
            "_operator           decorator           nturl2path          terminado\n",
            "_osx_support        defusedxml          numbers             termios\n",
            "_pickle             difflib             numpy               test\n",
            "_plotly_future_     dis                 nvidia              textwrap\n",
            "_plotly_utils       distutils           opcode              this\n",
            "_posixshmem         doctest             operator            threading\n",
            "_posixsubprocess    email               optparse            threadpoolctl\n",
            "_py_abc             encodings           os                  time\n",
            "_pydecimal          ensurepip           ossaudiodev         timeit\n",
            "_pyio               enum                overrides           tinycss2\n",
            "_queue              errno               packaging           tkinter\n",
            "_random             exceptiongroup      pandas              token\n",
            "_remote_module_non_scriptable executing           pandocfilters       tokenize\n",
            "_sha1               fastjsonschema      parso               tomli\n",
            "_sha256             faulthandler        pathlib             torch\n",
            "_sha3               fcntl               pdb                 torchgen\n",
            "_sha512             filecmp             pexpect             tornado\n",
            "_signal             fileinput           pickle              trace\n",
            "_sitebuiltins       filelock            pickletools         traceback\n",
            "_socket             fnmatch             pip                 tracemalloc\n",
            "_sqlite3            fontTools           pipes               traitlets\n",
            "_sre                fqdn                pkg_resources       triton\n",
            "_ssl                fractions           pkgutil             tty\n",
            "_stat               fsspec              platform            turtle\n",
            "_statistics         ftplib              platformdirs        turtledemo\n",
            "_string             functools           plistlib            types\n",
            "_strptime           functorch           plotly              typing\n",
            "_struct             gc                  poplib              typing_extensions\n",
            "_symtable           genericpath         posix               tzdata\n",
            "_sysconfigdata__linux_x86_64-linux-gnu getopt              posixpath           unicodedata\n",
            "_testbuffer         getpass             pprint              unittest\n",
            "_testcapi           gettext             profile             uri_template\n",
            "_testclinic         git                 prometheus_client   urllib\n",
            "_testimportmultiple gitdb               prompt_toolkit      urllib3\n",
            "_testinternalcapi   glob                pstats              uu\n",
            "_testmultiphase     graphlib            psutil              uuid\n",
            "_thread             grp                 pty                 venv\n",
            "_threading_local    gzip                ptyprocess          warnings\n",
            "_tkinter            h11                 pure_eval           wave\n",
            "_tracemalloc        hashlib             pwd                 wcwidth\n",
            "_uuid               heapq               py_compile          weakref\n",
            "_warnings           hmac                pyclbr              webbrowser\n",
            "_weakref            html                pycparser           webcolors\n",
            "_weakrefset         http                pydoc               webencodings\n",
            "_xxsubinterpreters  httpcore            pydoc_data          websocket\n",
            "_xxtestfuzz         httpx               pyexpat             wsgiref\n",
            "_yaml               idlelib             pygments            xdrlib\n",
            "_zoneinfo           idna                pylab               xml\n",
            "abc                 imaplib             pyparsing           xmlrpc\n",
            "aifc                imghdr              pythonjsonlogger    xxlimited\n",
            "antigravity         imp                 pytz                xxlimited_35\n",
            "anyio               importlib           queue               xxsubtype\n",
            "argon2              inspect             quopri              yaml\n",
            "argparse            io                  random              zipapp\n",
            "array               ipaddress           re                  zipfile\n",
            "arrow               ipykernel           readline            zipimport\n",
            "ast                 ipykernel_launcher  referencing         zlib\n",
            "asttokens           isoduration         reprlib             zmq\n",
            "async_lru           isympy              requests            zoneinfo\n",
            "asynchat            itertools           resource            \n",
            "asyncio             jedi                rfc3339_validator   \n",
            "asyncore            jinja2              rfc3986_validator   \n",
            "\n",
            "Enter any module name to get more help.  Or, type \"modules spam\" to search\n",
            "for modules whose name or summary contain the string \"spam\".\n",
            "\n"
          ]
        }
      ],
      "source": [
        "#get the list of all the modules in python\n",
        "help('modules')"
      ]
    },
    {
      "cell_type": "code",
      "execution_count": 158,
      "metadata": {},
      "outputs": [
        {
          "data": {
            "text/plain": [
              "'the value of pi with 2 decimal places is 3.14'"
            ]
          },
          "execution_count": 158,
          "metadata": {},
          "output_type": "execute_result"
        }
      ],
      "source": [
        "f'the value of pi with 2 decimal places is {math.pi:.2f}'"
      ]
    },
    {
      "cell_type": "code",
      "execution_count": 159,
      "metadata": {},
      "outputs": [
        {
          "data": {
            "text/plain": [
              "'\\nthis is multiline\\ntext\\n'"
            ]
          },
          "execution_count": 159,
          "metadata": {},
          "output_type": "execute_result"
        }
      ],
      "source": [
        "'''\n",
        "this is multiline\n",
        "text\n",
        "'''"
      ]
    },
    {
      "cell_type": "code",
      "execution_count": 160,
      "metadata": {},
      "outputs": [
        {
          "name": "stdout",
          "output_type": "stream",
          "text": [
            "\n",
            "      this\n",
            "      is\n",
            "      multiline\n",
            "      text\n",
            "      \n"
          ]
        }
      ],
      "source": [
        "print('''\n",
        "      this\n",
        "      is\n",
        "      multiline\n",
        "      text\n",
        "      ''')"
      ]
    },
    {
      "cell_type": "code",
      "execution_count": 161,
      "metadata": {},
      "outputs": [
        {
          "data": {
            "text/plain": [
              "b'\\x00\\x00\\x00\\x00'"
            ]
          },
          "execution_count": 161,
          "metadata": {},
          "output_type": "execute_result"
        }
      ],
      "source": [
        "bytes(4)"
      ]
    },
    {
      "cell_type": "code",
      "execution_count": 162,
      "metadata": {},
      "outputs": [
        {
          "data": {
            "text/plain": [
              "[1, 3, 5]"
            ]
          },
          "execution_count": 162,
          "metadata": {},
          "output_type": "execute_result"
        }
      ],
      "source": [
        "listexp1 = [1,2,3,4,5]\n",
        "listexp1[0:5:2]"
      ]
    },
    {
      "cell_type": "code",
      "execution_count": 167,
      "metadata": {},
      "outputs": [
        {
          "name": "stdout",
          "output_type": "stream",
          "text": [
            "[1, 2, 3, 4, 5, 6, 7, 8, 9, 10, 11, 12, 13, 14, 15, 16, 17, 18, 19, 20, 21, 22, 23, 24, 25, 26, 27, 28, 29, 30, 31, 32, 33, 34, 35, 36, 37, 38, 39, 40, 41, 42, 43, 44, 45, 46, 47, 48, 49, 50, 51, 52, 53, 54, 55, 56, 57, 58, 59, 60, 61, 62, 63, 64, 65, 66, 67, 68, 69, 70, 71, 72, 73, 74, 75, 76, 77, 78, 79, 80, 81, 82, 83, 84, 85, 86, 87, 88, 89, 90, 91, 92, 93, 94, 95, 96, 97, 98, 99, 100]\n"
          ]
        }
      ],
      "source": [
        "#type casting from range to list. Ranges are exclusive. 1 to 100:\n",
        "newlist = list(range(1,101))\n",
        "print(newlist)"
      ]
    }
  ],
  "metadata": {
    "colab": {
      "provenance": []
    },
    "kernelspec": {
      "display_name": "Python 3",
      "name": "python3"
    },
    "language_info": {
      "codemirror_mode": {
        "name": "ipython",
        "version": 3
      },
      "file_extension": ".py",
      "mimetype": "text/x-python",
      "name": "python",
      "nbconvert_exporter": "python",
      "pygments_lexer": "ipython3",
      "version": "3.10.13"
    }
  },
  "nbformat": 4,
  "nbformat_minor": 0
}
